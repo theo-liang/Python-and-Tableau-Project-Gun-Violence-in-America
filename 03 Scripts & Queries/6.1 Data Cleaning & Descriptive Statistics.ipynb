{
 "cells": [
  {
   "cell_type": "markdown",
   "id": "748d673e-107c-4574-8906-a5ee659325b7",
   "metadata": {},
   "source": [
    "# Data Cleaning & Descriptive Statistics"
   ]
  },
  {
   "cell_type": "markdown",
   "id": "f35f4a08-13d0-4c71-a82a-0d8b7c601176",
   "metadata": {},
   "source": [
    "## Table of Contents"
   ]
  },
  {
   "cell_type": "markdown",
   "id": "07866d00-58b6-4a5f-9527-f1eaa76b4869",
   "metadata": {},
   "source": [
    "#### 1. Importing Libraries\n",
    "#### 2. Importing Data\n",
    "#### 3. Data Cleaning\n",
    "#### 4. Consistency Checks\n",
    "#### 5. Descriptive Statistics\n",
    "#### 6. Exporting Data"
   ]
  },
  {
   "cell_type": "markdown",
   "id": "38999925-c3da-44c3-a92f-fd051d3992c3",
   "metadata": {},
   "source": [
    "# 01. Importing Libraries"
   ]
  },
  {
   "cell_type": "code",
   "execution_count": 5,
   "id": "f6dc3419-b69c-4dce-8ab4-177b4fbbeab1",
   "metadata": {},
   "outputs": [],
   "source": [
    "# Import libraries\n",
    "import pandas as pd\n",
    "import numpy as np\n",
    "import os\n",
    "import matplotlib.pyplot as plt\n",
    "import seaborn as sns\n",
    "import scipy"
   ]
  },
  {
   "cell_type": "markdown",
   "id": "cc9b44c3-b3e9-41f9-8a09-4f37d522e9e9",
   "metadata": {},
   "source": [
    "# 02. Importing Data"
   ]
  },
  {
   "cell_type": "code",
   "execution_count": 7,
   "id": "db7f29de-dc5c-4543-98dd-d950db1bbe10",
   "metadata": {},
   "outputs": [],
   "source": [
    "# Create path\n",
    "path = r'C:\\Users\\16307\\Desktop\\Tasks - DA Immersion\\Gun Violence Analysis'"
   ]
  },
  {
   "cell_type": "code",
   "execution_count": 8,
   "id": "87d64385-cec9-4e59-b9da-34dd1b8265c0",
   "metadata": {},
   "outputs": [],
   "source": [
    "# Import gun violence data set as dataframe\n",
    "df = pd.read_csv(os.path.join(path, '02 Data', 'gun-violence-data_01-2013_03-2018.csv'))"
   ]
  },
  {
   "cell_type": "markdown",
   "id": "a44857f2-a222-45eb-b6da-55539533ef98",
   "metadata": {},
   "source": [
    "# 03. Data Cleaning"
   ]
  },
  {
   "cell_type": "code",
   "execution_count": 10,
   "id": "c30298f4-08a5-4c0d-bcc5-41fb8f461920",
   "metadata": {},
   "outputs": [
    {
     "data": {
      "text/html": [
       "<div>\n",
       "<style scoped>\n",
       "    .dataframe tbody tr th:only-of-type {\n",
       "        vertical-align: middle;\n",
       "    }\n",
       "\n",
       "    .dataframe tbody tr th {\n",
       "        vertical-align: top;\n",
       "    }\n",
       "\n",
       "    .dataframe thead th {\n",
       "        text-align: right;\n",
       "    }\n",
       "</style>\n",
       "<table border=\"1\" class=\"dataframe\">\n",
       "  <thead>\n",
       "    <tr style=\"text-align: right;\">\n",
       "      <th></th>\n",
       "      <th>incident_id</th>\n",
       "      <th>date</th>\n",
       "      <th>state</th>\n",
       "      <th>city_or_county</th>\n",
       "      <th>address</th>\n",
       "      <th>n_killed</th>\n",
       "      <th>n_injured</th>\n",
       "      <th>incident_url</th>\n",
       "      <th>source_url</th>\n",
       "      <th>incident_url_fields_missing</th>\n",
       "      <th>...</th>\n",
       "      <th>participant_age</th>\n",
       "      <th>participant_age_group</th>\n",
       "      <th>participant_gender</th>\n",
       "      <th>participant_name</th>\n",
       "      <th>participant_relationship</th>\n",
       "      <th>participant_status</th>\n",
       "      <th>participant_type</th>\n",
       "      <th>sources</th>\n",
       "      <th>state_house_district</th>\n",
       "      <th>state_senate_district</th>\n",
       "    </tr>\n",
       "  </thead>\n",
       "  <tbody>\n",
       "    <tr>\n",
       "      <th>0</th>\n",
       "      <td>461105</td>\n",
       "      <td>1/1/2013</td>\n",
       "      <td>Pennsylvania</td>\n",
       "      <td>Mckeesport</td>\n",
       "      <td>1506 Versailles Avenue and Coursin Street</td>\n",
       "      <td>0</td>\n",
       "      <td>4</td>\n",
       "      <td>http://www.gunviolencearchive.org/incident/461105</td>\n",
       "      <td>http://www.post-gazette.com/local/south/2013/0...</td>\n",
       "      <td>False</td>\n",
       "      <td>...</td>\n",
       "      <td>0::20</td>\n",
       "      <td>0::Adult 18+||1::Adult 18+||2::Adult 18+||3::A...</td>\n",
       "      <td>0::Male||1::Male||3::Male||4::Female</td>\n",
       "      <td>0::Julian Sims</td>\n",
       "      <td>NaN</td>\n",
       "      <td>0::Arrested||1::Injured||2::Injured||3::Injure...</td>\n",
       "      <td>0::Victim||1::Victim||2::Victim||3::Victim||4:...</td>\n",
       "      <td>http://pittsburgh.cbslocal.com/2013/01/01/4-pe...</td>\n",
       "      <td>NaN</td>\n",
       "      <td>NaN</td>\n",
       "    </tr>\n",
       "    <tr>\n",
       "      <th>1</th>\n",
       "      <td>460726</td>\n",
       "      <td>1/1/2013</td>\n",
       "      <td>California</td>\n",
       "      <td>Hawthorne</td>\n",
       "      <td>13500 block of Cerise Avenue</td>\n",
       "      <td>1</td>\n",
       "      <td>3</td>\n",
       "      <td>http://www.gunviolencearchive.org/incident/460726</td>\n",
       "      <td>http://www.dailybulletin.com/article/zz/201301...</td>\n",
       "      <td>False</td>\n",
       "      <td>...</td>\n",
       "      <td>0::20</td>\n",
       "      <td>0::Adult 18+||1::Adult 18+||2::Adult 18+||3::A...</td>\n",
       "      <td>0::Male</td>\n",
       "      <td>0::Bernard Gillis</td>\n",
       "      <td>NaN</td>\n",
       "      <td>0::Killed||1::Injured||2::Injured||3::Injured</td>\n",
       "      <td>0::Victim||1::Victim||2::Victim||3::Victim||4:...</td>\n",
       "      <td>http://losangeles.cbslocal.com/2013/01/01/man-...</td>\n",
       "      <td>62.0</td>\n",
       "      <td>35.0</td>\n",
       "    </tr>\n",
       "    <tr>\n",
       "      <th>2</th>\n",
       "      <td>478855</td>\n",
       "      <td>1/1/2013</td>\n",
       "      <td>Ohio</td>\n",
       "      <td>Lorain</td>\n",
       "      <td>1776 East 28th Street</td>\n",
       "      <td>1</td>\n",
       "      <td>3</td>\n",
       "      <td>http://www.gunviolencearchive.org/incident/478855</td>\n",
       "      <td>http://chronicle.northcoastnow.com/2013/02/14/...</td>\n",
       "      <td>False</td>\n",
       "      <td>...</td>\n",
       "      <td>0::25||1::31||2::33||3::34||4::33</td>\n",
       "      <td>0::Adult 18+||1::Adult 18+||2::Adult 18+||3::A...</td>\n",
       "      <td>0::Male||1::Male||2::Male||3::Male||4::Male</td>\n",
       "      <td>0::Damien Bell||1::Desmen Noble||2::Herman Sea...</td>\n",
       "      <td>NaN</td>\n",
       "      <td>0::Injured, Unharmed, Arrested||1::Unharmed, A...</td>\n",
       "      <td>0::Subject-Suspect||1::Subject-Suspect||2::Vic...</td>\n",
       "      <td>http://www.morningjournal.com/general-news/201...</td>\n",
       "      <td>56.0</td>\n",
       "      <td>13.0</td>\n",
       "    </tr>\n",
       "    <tr>\n",
       "      <th>3</th>\n",
       "      <td>478925</td>\n",
       "      <td>1/5/2013</td>\n",
       "      <td>Colorado</td>\n",
       "      <td>Aurora</td>\n",
       "      <td>16000 block of East Ithaca Place</td>\n",
       "      <td>4</td>\n",
       "      <td>0</td>\n",
       "      <td>http://www.gunviolencearchive.org/incident/478925</td>\n",
       "      <td>http://www.dailydemocrat.com/20130106/aurora-s...</td>\n",
       "      <td>False</td>\n",
       "      <td>...</td>\n",
       "      <td>0::29||1::33||2::56||3::33</td>\n",
       "      <td>0::Adult 18+||1::Adult 18+||2::Adult 18+||3::A...</td>\n",
       "      <td>0::Female||1::Male||2::Male||3::Male</td>\n",
       "      <td>0::Stacie Philbrook||1::Christopher Ratliffe||...</td>\n",
       "      <td>NaN</td>\n",
       "      <td>0::Killed||1::Killed||2::Killed||3::Killed</td>\n",
       "      <td>0::Victim||1::Victim||2::Victim||3::Subject-Su...</td>\n",
       "      <td>http://denver.cbslocal.com/2013/01/06/officer-...</td>\n",
       "      <td>40.0</td>\n",
       "      <td>28.0</td>\n",
       "    </tr>\n",
       "    <tr>\n",
       "      <th>4</th>\n",
       "      <td>478959</td>\n",
       "      <td>1/7/2013</td>\n",
       "      <td>North Carolina</td>\n",
       "      <td>Greensboro</td>\n",
       "      <td>307 Mourning Dove Terrace</td>\n",
       "      <td>2</td>\n",
       "      <td>2</td>\n",
       "      <td>http://www.gunviolencearchive.org/incident/478959</td>\n",
       "      <td>http://www.journalnow.com/news/local/article_d...</td>\n",
       "      <td>False</td>\n",
       "      <td>...</td>\n",
       "      <td>0::18||1::46||2::14||3::47</td>\n",
       "      <td>0::Adult 18+||1::Adult 18+||2::Teen 12-17||3::...</td>\n",
       "      <td>0::Female||1::Male||2::Male||3::Female</td>\n",
       "      <td>0::Danielle Imani Jameison||1::Maurice Eugene ...</td>\n",
       "      <td>3::Family</td>\n",
       "      <td>0::Injured||1::Injured||2::Killed||3::Killed</td>\n",
       "      <td>0::Victim||1::Victim||2::Victim||3::Subject-Su...</td>\n",
       "      <td>http://myfox8.com/2013/01/08/update-mother-sho...</td>\n",
       "      <td>62.0</td>\n",
       "      <td>27.0</td>\n",
       "    </tr>\n",
       "  </tbody>\n",
       "</table>\n",
       "<p>5 rows × 29 columns</p>\n",
       "</div>"
      ],
      "text/plain": [
       "   incident_id      date           state city_or_county  \\\n",
       "0       461105  1/1/2013    Pennsylvania     Mckeesport   \n",
       "1       460726  1/1/2013      California      Hawthorne   \n",
       "2       478855  1/1/2013            Ohio         Lorain   \n",
       "3       478925  1/5/2013        Colorado         Aurora   \n",
       "4       478959  1/7/2013  North Carolina     Greensboro   \n",
       "\n",
       "                                     address  n_killed  n_injured  \\\n",
       "0  1506 Versailles Avenue and Coursin Street         0          4   \n",
       "1               13500 block of Cerise Avenue         1          3   \n",
       "2                      1776 East 28th Street         1          3   \n",
       "3           16000 block of East Ithaca Place         4          0   \n",
       "4                  307 Mourning Dove Terrace         2          2   \n",
       "\n",
       "                                        incident_url  \\\n",
       "0  http://www.gunviolencearchive.org/incident/461105   \n",
       "1  http://www.gunviolencearchive.org/incident/460726   \n",
       "2  http://www.gunviolencearchive.org/incident/478855   \n",
       "3  http://www.gunviolencearchive.org/incident/478925   \n",
       "4  http://www.gunviolencearchive.org/incident/478959   \n",
       "\n",
       "                                          source_url  \\\n",
       "0  http://www.post-gazette.com/local/south/2013/0...   \n",
       "1  http://www.dailybulletin.com/article/zz/201301...   \n",
       "2  http://chronicle.northcoastnow.com/2013/02/14/...   \n",
       "3  http://www.dailydemocrat.com/20130106/aurora-s...   \n",
       "4  http://www.journalnow.com/news/local/article_d...   \n",
       "\n",
       "   incident_url_fields_missing  ...                    participant_age  \\\n",
       "0                        False  ...                              0::20   \n",
       "1                        False  ...                              0::20   \n",
       "2                        False  ...  0::25||1::31||2::33||3::34||4::33   \n",
       "3                        False  ...         0::29||1::33||2::56||3::33   \n",
       "4                        False  ...         0::18||1::46||2::14||3::47   \n",
       "\n",
       "                               participant_age_group  \\\n",
       "0  0::Adult 18+||1::Adult 18+||2::Adult 18+||3::A...   \n",
       "1  0::Adult 18+||1::Adult 18+||2::Adult 18+||3::A...   \n",
       "2  0::Adult 18+||1::Adult 18+||2::Adult 18+||3::A...   \n",
       "3  0::Adult 18+||1::Adult 18+||2::Adult 18+||3::A...   \n",
       "4  0::Adult 18+||1::Adult 18+||2::Teen 12-17||3::...   \n",
       "\n",
       "                            participant_gender  \\\n",
       "0         0::Male||1::Male||3::Male||4::Female   \n",
       "1                                      0::Male   \n",
       "2  0::Male||1::Male||2::Male||3::Male||4::Male   \n",
       "3         0::Female||1::Male||2::Male||3::Male   \n",
       "4       0::Female||1::Male||2::Male||3::Female   \n",
       "\n",
       "                                    participant_name  \\\n",
       "0                                     0::Julian Sims   \n",
       "1                                  0::Bernard Gillis   \n",
       "2  0::Damien Bell||1::Desmen Noble||2::Herman Sea...   \n",
       "3  0::Stacie Philbrook||1::Christopher Ratliffe||...   \n",
       "4  0::Danielle Imani Jameison||1::Maurice Eugene ...   \n",
       "\n",
       "   participant_relationship  \\\n",
       "0                       NaN   \n",
       "1                       NaN   \n",
       "2                       NaN   \n",
       "3                       NaN   \n",
       "4                 3::Family   \n",
       "\n",
       "                                  participant_status  \\\n",
       "0  0::Arrested||1::Injured||2::Injured||3::Injure...   \n",
       "1      0::Killed||1::Injured||2::Injured||3::Injured   \n",
       "2  0::Injured, Unharmed, Arrested||1::Unharmed, A...   \n",
       "3         0::Killed||1::Killed||2::Killed||3::Killed   \n",
       "4       0::Injured||1::Injured||2::Killed||3::Killed   \n",
       "\n",
       "                                    participant_type  \\\n",
       "0  0::Victim||1::Victim||2::Victim||3::Victim||4:...   \n",
       "1  0::Victim||1::Victim||2::Victim||3::Victim||4:...   \n",
       "2  0::Subject-Suspect||1::Subject-Suspect||2::Vic...   \n",
       "3  0::Victim||1::Victim||2::Victim||3::Subject-Su...   \n",
       "4  0::Victim||1::Victim||2::Victim||3::Subject-Su...   \n",
       "\n",
       "                                             sources state_house_district  \\\n",
       "0  http://pittsburgh.cbslocal.com/2013/01/01/4-pe...                  NaN   \n",
       "1  http://losangeles.cbslocal.com/2013/01/01/man-...                 62.0   \n",
       "2  http://www.morningjournal.com/general-news/201...                 56.0   \n",
       "3  http://denver.cbslocal.com/2013/01/06/officer-...                 40.0   \n",
       "4  http://myfox8.com/2013/01/08/update-mother-sho...                 62.0   \n",
       "\n",
       "  state_senate_district  \n",
       "0                   NaN  \n",
       "1                  35.0  \n",
       "2                  13.0  \n",
       "3                  28.0  \n",
       "4                  27.0  \n",
       "\n",
       "[5 rows x 29 columns]"
      ]
     },
     "execution_count": 10,
     "metadata": {},
     "output_type": "execute_result"
    }
   ],
   "source": [
    "# Check head\n",
    "df.head()"
   ]
  },
  {
   "cell_type": "code",
   "execution_count": 11,
   "id": "161b27dd-d0ca-4358-9717-6cd6e2021f2e",
   "metadata": {},
   "outputs": [
    {
     "data": {
      "text/plain": [
       "(239677, 29)"
      ]
     },
     "execution_count": 11,
     "metadata": {},
     "output_type": "execute_result"
    }
   ],
   "source": [
    "# Check shape\n",
    "df.shape"
   ]
  },
  {
   "cell_type": "markdown",
   "id": "8ee5c5d5-a5da-4688-8a7e-5d4035a5c93b",
   "metadata": {},
   "source": [
    "## Dropping Columns"
   ]
  },
  {
   "cell_type": "code",
   "execution_count": 13,
   "id": "f44850d2-d350-4bf6-b3b6-519503da76b4",
   "metadata": {},
   "outputs": [],
   "source": [
    "# Drop columns\n",
    "df = df.drop(['address', 'incident_url', 'source_url', 'incident_url_fields_missing', 'incident_characteristics', 'notes', 'sources'], axis=1)"
   ]
  },
  {
   "cell_type": "code",
   "execution_count": 14,
   "id": "6237978c-e645-4449-b788-4d00fe48dd98",
   "metadata": {},
   "outputs": [
    {
     "data": {
      "text/plain": [
       "(239677, 22)"
      ]
     },
     "execution_count": 14,
     "metadata": {},
     "output_type": "execute_result"
    }
   ],
   "source": [
    "# Check shape again to confirm 7 dropped columns\n",
    "df.shape"
   ]
  },
  {
   "cell_type": "markdown",
   "id": "70323d34-a663-4c1e-9a05-b744c334e76e",
   "metadata": {},
   "source": [
    "# 04. Consistency Checks"
   ]
  },
  {
   "cell_type": "markdown",
   "id": "b219a828-70a2-44de-9548-7a2334ec6eb1",
   "metadata": {},
   "source": [
    "## Mixed Types"
   ]
  },
  {
   "cell_type": "code",
   "execution_count": 17,
   "id": "fe9a4a85-3ebb-452e-89a8-53181451f3a8",
   "metadata": {},
   "outputs": [
    {
     "name": "stderr",
     "output_type": "stream",
     "text": [
      "C:\\Users\\16307\\AppData\\Local\\Temp\\ipykernel_8936\\399198038.py:4: FutureWarning: DataFrame.applymap has been deprecated. Use DataFrame.map instead.\n",
      "  weird = (df[[col]].applymap(type) != df[[col]].iloc[0].apply(type)).any(axis = 1)\n",
      "C:\\Users\\16307\\AppData\\Local\\Temp\\ipykernel_8936\\399198038.py:4: FutureWarning: DataFrame.applymap has been deprecated. Use DataFrame.map instead.\n",
      "  weird = (df[[col]].applymap(type) != df[[col]].iloc[0].apply(type)).any(axis = 1)\n",
      "C:\\Users\\16307\\AppData\\Local\\Temp\\ipykernel_8936\\399198038.py:4: FutureWarning: DataFrame.applymap has been deprecated. Use DataFrame.map instead.\n",
      "  weird = (df[[col]].applymap(type) != df[[col]].iloc[0].apply(type)).any(axis = 1)\n",
      "C:\\Users\\16307\\AppData\\Local\\Temp\\ipykernel_8936\\399198038.py:4: FutureWarning: DataFrame.applymap has been deprecated. Use DataFrame.map instead.\n",
      "  weird = (df[[col]].applymap(type) != df[[col]].iloc[0].apply(type)).any(axis = 1)\n",
      "C:\\Users\\16307\\AppData\\Local\\Temp\\ipykernel_8936\\399198038.py:4: FutureWarning: DataFrame.applymap has been deprecated. Use DataFrame.map instead.\n",
      "  weird = (df[[col]].applymap(type) != df[[col]].iloc[0].apply(type)).any(axis = 1)\n",
      "C:\\Users\\16307\\AppData\\Local\\Temp\\ipykernel_8936\\399198038.py:4: FutureWarning: DataFrame.applymap has been deprecated. Use DataFrame.map instead.\n",
      "  weird = (df[[col]].applymap(type) != df[[col]].iloc[0].apply(type)).any(axis = 1)\n",
      "C:\\Users\\16307\\AppData\\Local\\Temp\\ipykernel_8936\\399198038.py:4: FutureWarning: DataFrame.applymap has been deprecated. Use DataFrame.map instead.\n",
      "  weird = (df[[col]].applymap(type) != df[[col]].iloc[0].apply(type)).any(axis = 1)\n",
      "C:\\Users\\16307\\AppData\\Local\\Temp\\ipykernel_8936\\399198038.py:4: FutureWarning: DataFrame.applymap has been deprecated. Use DataFrame.map instead.\n",
      "  weird = (df[[col]].applymap(type) != df[[col]].iloc[0].apply(type)).any(axis = 1)\n"
     ]
    },
    {
     "name": "stdout",
     "output_type": "stream",
     "text": [
      "gun_stolen\n",
      "gun_type\n"
     ]
    },
    {
     "name": "stderr",
     "output_type": "stream",
     "text": [
      "C:\\Users\\16307\\AppData\\Local\\Temp\\ipykernel_8936\\399198038.py:4: FutureWarning: DataFrame.applymap has been deprecated. Use DataFrame.map instead.\n",
      "  weird = (df[[col]].applymap(type) != df[[col]].iloc[0].apply(type)).any(axis = 1)\n",
      "C:\\Users\\16307\\AppData\\Local\\Temp\\ipykernel_8936\\399198038.py:4: FutureWarning: DataFrame.applymap has been deprecated. Use DataFrame.map instead.\n",
      "  weird = (df[[col]].applymap(type) != df[[col]].iloc[0].apply(type)).any(axis = 1)\n",
      "C:\\Users\\16307\\AppData\\Local\\Temp\\ipykernel_8936\\399198038.py:4: FutureWarning: DataFrame.applymap has been deprecated. Use DataFrame.map instead.\n",
      "  weird = (df[[col]].applymap(type) != df[[col]].iloc[0].apply(type)).any(axis = 1)\n"
     ]
    },
    {
     "name": "stdout",
     "output_type": "stream",
     "text": [
      "location_description\n"
     ]
    },
    {
     "name": "stderr",
     "output_type": "stream",
     "text": [
      "C:\\Users\\16307\\AppData\\Local\\Temp\\ipykernel_8936\\399198038.py:4: FutureWarning: DataFrame.applymap has been deprecated. Use DataFrame.map instead.\n",
      "  weird = (df[[col]].applymap(type) != df[[col]].iloc[0].apply(type)).any(axis = 1)\n",
      "C:\\Users\\16307\\AppData\\Local\\Temp\\ipykernel_8936\\399198038.py:4: FutureWarning: DataFrame.applymap has been deprecated. Use DataFrame.map instead.\n",
      "  weird = (df[[col]].applymap(type) != df[[col]].iloc[0].apply(type)).any(axis = 1)\n",
      "C:\\Users\\16307\\AppData\\Local\\Temp\\ipykernel_8936\\399198038.py:4: FutureWarning: DataFrame.applymap has been deprecated. Use DataFrame.map instead.\n",
      "  weird = (df[[col]].applymap(type) != df[[col]].iloc[0].apply(type)).any(axis = 1)\n"
     ]
    },
    {
     "name": "stdout",
     "output_type": "stream",
     "text": [
      "participant_age\n",
      "participant_age_group\n",
      "participant_gender\n"
     ]
    },
    {
     "name": "stderr",
     "output_type": "stream",
     "text": [
      "C:\\Users\\16307\\AppData\\Local\\Temp\\ipykernel_8936\\399198038.py:4: FutureWarning: DataFrame.applymap has been deprecated. Use DataFrame.map instead.\n",
      "  weird = (df[[col]].applymap(type) != df[[col]].iloc[0].apply(type)).any(axis = 1)\n",
      "C:\\Users\\16307\\AppData\\Local\\Temp\\ipykernel_8936\\399198038.py:4: FutureWarning: DataFrame.applymap has been deprecated. Use DataFrame.map instead.\n",
      "  weird = (df[[col]].applymap(type) != df[[col]].iloc[0].apply(type)).any(axis = 1)\n",
      "C:\\Users\\16307\\AppData\\Local\\Temp\\ipykernel_8936\\399198038.py:4: FutureWarning: DataFrame.applymap has been deprecated. Use DataFrame.map instead.\n",
      "  weird = (df[[col]].applymap(type) != df[[col]].iloc[0].apply(type)).any(axis = 1)\n"
     ]
    },
    {
     "name": "stdout",
     "output_type": "stream",
     "text": [
      "participant_name\n",
      "participant_relationship\n",
      "participant_status\n",
      "participant_type\n"
     ]
    },
    {
     "name": "stderr",
     "output_type": "stream",
     "text": [
      "C:\\Users\\16307\\AppData\\Local\\Temp\\ipykernel_8936\\399198038.py:4: FutureWarning: DataFrame.applymap has been deprecated. Use DataFrame.map instead.\n",
      "  weird = (df[[col]].applymap(type) != df[[col]].iloc[0].apply(type)).any(axis = 1)\n",
      "C:\\Users\\16307\\AppData\\Local\\Temp\\ipykernel_8936\\399198038.py:4: FutureWarning: DataFrame.applymap has been deprecated. Use DataFrame.map instead.\n",
      "  weird = (df[[col]].applymap(type) != df[[col]].iloc[0].apply(type)).any(axis = 1)\n",
      "C:\\Users\\16307\\AppData\\Local\\Temp\\ipykernel_8936\\399198038.py:4: FutureWarning: DataFrame.applymap has been deprecated. Use DataFrame.map instead.\n",
      "  weird = (df[[col]].applymap(type) != df[[col]].iloc[0].apply(type)).any(axis = 1)\n",
      "C:\\Users\\16307\\AppData\\Local\\Temp\\ipykernel_8936\\399198038.py:4: FutureWarning: DataFrame.applymap has been deprecated. Use DataFrame.map instead.\n",
      "  weird = (df[[col]].applymap(type) != df[[col]].iloc[0].apply(type)).any(axis = 1)\n",
      "C:\\Users\\16307\\AppData\\Local\\Temp\\ipykernel_8936\\399198038.py:4: FutureWarning: DataFrame.applymap has been deprecated. Use DataFrame.map instead.\n",
      "  weird = (df[[col]].applymap(type) != df[[col]].iloc[0].apply(type)).any(axis = 1)\n"
     ]
    }
   ],
   "source": [
    "# Check for mixed types\n",
    "\n",
    "for col in df.columns.tolist():\n",
    "  weird = (df[[col]].applymap(type) != df[[col]].iloc[0].apply(type)).any(axis = 1)\n",
    "  if len (df[weird]) > 0:\n",
    "    print (col)"
   ]
  },
  {
   "cell_type": "code",
   "execution_count": 33,
   "id": "b54ec377-f7f8-4539-a102-7ec7a2ffc2e8",
   "metadata": {},
   "outputs": [
    {
     "name": "stdout",
     "output_type": "stream",
     "text": [
      "incident_id                   int64\n",
      "date                         object\n",
      "state                        object\n",
      "city_or_county               object\n",
      "n_killed                      int64\n",
      "n_injured                     int64\n",
      "congressional_district      float64\n",
      "gun_stolen                   object\n",
      "gun_type                     object\n",
      "latitude                    float64\n",
      "location_description         object\n",
      "longitude                   float64\n",
      "n_guns_involved             float64\n",
      "participant_age              object\n",
      "participant_age_group        object\n",
      "participant_gender           object\n",
      "participant_name             object\n",
      "participant_relationship     object\n",
      "participant_status           object\n",
      "participant_type             object\n",
      "state_house_district        float64\n",
      "state_senate_district       float64\n",
      "dtype: object\n"
     ]
    }
   ],
   "source": [
    "# Check all data types\n",
    "print(df.dtypes)"
   ]
  },
  {
   "cell_type": "markdown",
   "id": "9381f1ef-72c4-4b75-947f-405e27184a87",
   "metadata": {},
   "source": [
    "## Missing Values"
   ]
  },
  {
   "cell_type": "code",
   "execution_count": 36,
   "id": "aa3dc33f-2b03-48dd-aa23-32c3fb9271a2",
   "metadata": {},
   "outputs": [
    {
     "data": {
      "text/plain": [
       "incident_id                      0\n",
       "date                             0\n",
       "state                            0\n",
       "city_or_county                   0\n",
       "n_killed                         0\n",
       "n_injured                        0\n",
       "congressional_district       11944\n",
       "gun_stolen                   99498\n",
       "gun_type                     99451\n",
       "latitude                      7923\n",
       "location_description        197588\n",
       "longitude                     7923\n",
       "n_guns_involved              99451\n",
       "participant_age              92298\n",
       "participant_age_group        42119\n",
       "participant_gender           36362\n",
       "participant_name            122253\n",
       "participant_relationship    223903\n",
       "participant_status           27626\n",
       "participant_type             24863\n",
       "state_house_district         38772\n",
       "state_senate_district        32335\n",
       "dtype: int64"
      ]
     },
     "execution_count": 36,
     "metadata": {},
     "output_type": "execute_result"
    }
   ],
   "source": [
    "# Check for missing values\n",
    "df.isnull().sum()"
   ]
  },
  {
   "cell_type": "code",
   "execution_count": 40,
   "id": "49b5a98f-8724-47dc-a29d-0cbe4fb61ca5",
   "metadata": {},
   "outputs": [],
   "source": [
    "# Drop additional columns\n",
    "df = df.drop(['participant_name', 'participant_relationship'], axis=1)"
   ]
  },
  {
   "cell_type": "code",
   "execution_count": 42,
   "id": "3af41829-afb2-4210-8728-eed30ee8dfe3",
   "metadata": {},
   "outputs": [
    {
     "data": {
      "text/plain": [
       "(239677, 20)"
      ]
     },
     "execution_count": 42,
     "metadata": {},
     "output_type": "execute_result"
    }
   ],
   "source": [
    "# Check shape again\n",
    "df.shape"
   ]
  },
  {
   "cell_type": "markdown",
   "id": "1494c8fd-465d-4b12-b98b-7d75c4a1aeb1",
   "metadata": {},
   "source": [
    "## Duplicates"
   ]
  },
  {
   "cell_type": "code",
   "execution_count": 47,
   "id": "f7b357c4-4152-4e80-8084-5acb20b66ba1",
   "metadata": {},
   "outputs": [
    {
     "data": {
      "text/html": [
       "<div>\n",
       "<style scoped>\n",
       "    .dataframe tbody tr th:only-of-type {\n",
       "        vertical-align: middle;\n",
       "    }\n",
       "\n",
       "    .dataframe tbody tr th {\n",
       "        vertical-align: top;\n",
       "    }\n",
       "\n",
       "    .dataframe thead th {\n",
       "        text-align: right;\n",
       "    }\n",
       "</style>\n",
       "<table border=\"1\" class=\"dataframe\">\n",
       "  <thead>\n",
       "    <tr style=\"text-align: right;\">\n",
       "      <th></th>\n",
       "      <th>incident_id</th>\n",
       "      <th>date</th>\n",
       "      <th>state</th>\n",
       "      <th>city_or_county</th>\n",
       "      <th>n_killed</th>\n",
       "      <th>n_injured</th>\n",
       "      <th>congressional_district</th>\n",
       "      <th>gun_stolen</th>\n",
       "      <th>gun_type</th>\n",
       "      <th>latitude</th>\n",
       "      <th>location_description</th>\n",
       "      <th>longitude</th>\n",
       "      <th>n_guns_involved</th>\n",
       "      <th>participant_age</th>\n",
       "      <th>participant_age_group</th>\n",
       "      <th>participant_gender</th>\n",
       "      <th>participant_status</th>\n",
       "      <th>participant_type</th>\n",
       "      <th>state_house_district</th>\n",
       "      <th>state_senate_district</th>\n",
       "    </tr>\n",
       "  </thead>\n",
       "  <tbody>\n",
       "  </tbody>\n",
       "</table>\n",
       "</div>"
      ],
      "text/plain": [
       "Empty DataFrame\n",
       "Columns: [incident_id, date, state, city_or_county, n_killed, n_injured, congressional_district, gun_stolen, gun_type, latitude, location_description, longitude, n_guns_involved, participant_age, participant_age_group, participant_gender, participant_status, participant_type, state_house_district, state_senate_district]\n",
       "Index: []"
      ]
     },
     "execution_count": 47,
     "metadata": {},
     "output_type": "execute_result"
    }
   ],
   "source": [
    "# Create a subset containing only rows that are duplicates and print\n",
    "\n",
    "df_dups = df[df.duplicated()]\n",
    "df_dups"
   ]
  },
  {
   "cell_type": "markdown",
   "id": "70d74723-2312-4311-98a2-31bfe351a1cf",
   "metadata": {},
   "source": [
    "##### No duplicates found"
   ]
  },
  {
   "cell_type": "markdown",
   "id": "6615278a-59f0-4e3b-accc-74856deeb155",
   "metadata": {},
   "source": [
    "## Outliers"
   ]
  },
  {
   "cell_type": "code",
   "execution_count": 58,
   "id": "c4c27fe0-eed2-44aa-abde-1cfee5cfbb8a",
   "metadata": {},
   "outputs": [
    {
     "data": {
      "image/png": "[encoded data removed]",
      "text/plain": [
       "<Figure size 640x480 with 1 Axes>"
      ]
     },
     "metadata": {},
     "output_type": "display_data"
    }
   ],
   "source": [
    "# Check for outliers by creating a box plot for n_killed\n",
    "sns.boxplot(x=df['n_killed'])\n",
    "plt.show()"
   ]
  },
  {
   "cell_type": "markdown",
   "id": "02e4998e-a680-4d05-8d50-de15c274d8af",
   "metadata": {},
   "source": [
    "##### Even though there are outliers the data is accurate after cross-checking online"
   ]
  },
  {
   "cell_type": "code",
   "execution_count": 62,
   "id": "ba9d720c-9323-4cd2-9fa0-4b412feab4d2",
   "metadata": {},
   "outputs": [
    {
     "data": {
      "image/png": "[encoded data removed]",
      "text/plain": [
       "<Figure size 640x480 with 1 Axes>"
      ]
     },
     "metadata": {},
     "output_type": "display_data"
    }
   ],
   "source": [
    "# Check for outliers by creating a box plot for n_injured\n",
    "sns.boxplot(x=df['n_injured'])\n",
    "plt.show()"
   ]
  },
  {
   "cell_type": "markdown",
   "id": "f699e0b2-5be4-40af-a01c-50e6a1a4565b",
   "metadata": {},
   "source": [
    "##### Even though there are outliers the data is accurate after cross-checking online"
   ]
  },
  {
   "cell_type": "code",
   "execution_count": 66,
   "id": "2266b42e-bdcb-4fe7-982a-024c4e2a7dad",
   "metadata": {},
   "outputs": [
    {
     "data": {
      "image/png": "[encoded data removed]",
      "text/plain": [
       "<Figure size 640x480 with 1 Axes>"
      ]
     },
     "metadata": {},
     "output_type": "display_data"
    }
   ],
   "source": [
    "# Check for outliers by creating a box plot for n_guns_involved\n",
    "sns.boxplot(x=df['n_guns_involved'])\n",
    "plt.show()"
   ]
  },
  {
   "cell_type": "markdown",
   "id": "644c1905-47cd-4b7f-8a5a-b29215f85b27",
   "metadata": {},
   "source": [
    "##### The data looks inaccurate but digging deeper into how the data was collected, it includes police seizing guns and other forms of gun collection not necessarily dealing with gun violence"
   ]
  },
  {
   "cell_type": "markdown",
   "id": "8d89521a-d840-49a0-bc52-636766dfd985",
   "metadata": {},
   "source": [
    "# 05. Descriptive Statistics"
   ]
  },
  {
   "cell_type": "code",
   "execution_count": 76,
   "id": "138b48de-0812-4369-b420-b70c799c716a",
   "metadata": {},
   "outputs": [
    {
     "data": {
      "text/plain": [
       "count    239677.000000\n",
       "mean          0.252290\n",
       "std           0.521779\n",
       "min           0.000000\n",
       "25%           0.000000\n",
       "50%           0.000000\n",
       "75%           0.000000\n",
       "max          50.000000\n",
       "Name: n_killed, dtype: float64"
      ]
     },
     "execution_count": 76,
     "metadata": {},
     "output_type": "execute_result"
    }
   ],
   "source": [
    "# Descriptive statistics for n_killed\n",
    "df['n_killed'].describe()"
   ]
  },
  {
   "cell_type": "code",
   "execution_count": 78,
   "id": "668aa35d-508b-4696-b33b-ea9dbb2dff9a",
   "metadata": {},
   "outputs": [
    {
     "data": {
      "text/plain": [
       "count    239677.000000\n",
       "mean          0.494007\n",
       "std           0.729952\n",
       "min           0.000000\n",
       "25%           0.000000\n",
       "50%           0.000000\n",
       "75%           1.000000\n",
       "max          53.000000\n",
       "Name: n_injured, dtype: float64"
      ]
     },
     "execution_count": 78,
     "metadata": {},
     "output_type": "execute_result"
    }
   ],
   "source": [
    "# Descriptive statistics for n_injured\n",
    "df['n_injured'].describe()"
   ]
  },
  {
   "cell_type": "code",
   "execution_count": 80,
   "id": "62be88e2-ae76-477c-bb3d-a2f5927bb69b",
   "metadata": {},
   "outputs": [
    {
     "data": {
      "text/plain": [
       "count    140226.000000\n",
       "mean          1.372442\n",
       "std           4.678202\n",
       "min           1.000000\n",
       "25%           1.000000\n",
       "50%           1.000000\n",
       "75%           1.000000\n",
       "max         400.000000\n",
       "Name: n_guns_involved, dtype: float64"
      ]
     },
     "execution_count": 80,
     "metadata": {},
     "output_type": "execute_result"
    }
   ],
   "source": [
    "# Descriptive statistics for n_guns_involved\n",
    "df['n_guns_involved'].describe()"
   ]
  },
  {
   "cell_type": "markdown",
   "id": "585a05e4-f814-4471-8a29-a73019b1cd2d",
   "metadata": {},
   "source": [
    "# 06. Exporting Data"
   ]
  },
  {
   "cell_type": "code",
   "execution_count": 85,
   "id": "cd04f73f-75c1-48c7-a63c-7e73431709d1",
   "metadata": {},
   "outputs": [],
   "source": [
    "# Export dataframe \n",
    "df.to_csv(os.path.join(path, '02 Data', 'gun_violence_cleaned.csv'))"
   ]
  },
  {
   "cell_type": "code",
   "execution_count": 87,
   "id": "e0871e50-daab-4065-a3e7-6ef8ef5f9181",
   "metadata": {},
   "outputs": [],
   "source": [
    "# Export dataframe\n",
    "df.to_pickle(os.path.join(path, '02 Data', 'gun_violence_cleaned.pkl'))"
   ]
  }
 ],
 "metadata": {
  "kernelspec": {
   "display_name": "Python 3 (ipykernel)",
   "language": "python",
   "name": "python3"
  },
  "language_info": {
   "codemirror_mode": {
    "name": "ipython",
    "version": 3
   },
   "file_extension": ".py",
   "mimetype": "text/x-python",
   "name": "python",
   "nbconvert_exporter": "python",
   "pygments_lexer": "ipython3",
   "version": "3.11.7"
  }
 },
 "nbformat": 4,
 "nbformat_minor": 5
}
